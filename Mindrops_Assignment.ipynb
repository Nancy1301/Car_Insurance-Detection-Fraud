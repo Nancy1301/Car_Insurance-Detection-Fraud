{
  "nbformat": 4,
  "nbformat_minor": 0,
  "metadata": {
    "colab": {
      "name": "Mindrops_Assignment.ipynb",
      "provenance": [],
      "collapsed_sections": []
    },
    "kernelspec": {
      "name": "python3",
      "display_name": "Python 3"
    },
    "language_info": {
      "name": "python"
    }
  },
  "cells": [
    {
      "cell_type": "code",
      "metadata": {
        "colab": {
          "base_uri": "https://localhost:8080/"
        },
        "id": "lNXIDgsvz0kz",
        "outputId": "4e16aa0b-8b05-4960-9247-d2909f4ce347"
      },
      "source": [
        "from google.colab import drive\n",
        "drive.mount('/content/drive')"
      ],
      "execution_count": 1,
      "outputs": [
        {
          "output_type": "stream",
          "text": [
            "Drive already mounted at /content/drive; to attempt to forcibly remount, call drive.mount(\"/content/drive\", force_remount=True).\n"
          ],
          "name": "stdout"
        }
      ]
    },
    {
      "cell_type": "code",
      "metadata": {
        "id": "ZrSFxWvWz2iL"
      },
      "source": [
        "import pandas as pd\n",
        "import numpy as np"
      ],
      "execution_count": 2,
      "outputs": []
    },
    {
      "cell_type": "code",
      "metadata": {
        "id": "EL-3vHkr0H57"
      },
      "source": [
        "x_data = pd.read_csv('/content/drive/MyDrive/customer-data.csv')"
      ],
      "execution_count": 3,
      "outputs": []
    },
    {
      "cell_type": "code",
      "metadata": {
        "colab": {
          "base_uri": "https://localhost:8080/",
          "height": 307
        },
        "id": "xlgKKWJX0O9T",
        "outputId": "47ae568f-1923-4351-8159-2970dbc6a5d8"
      },
      "source": [
        "x_data.head()"
      ],
      "execution_count": 4,
      "outputs": [
        {
          "output_type": "execute_result",
          "data": {
            "text/html": [
              "<div>\n",
              "<style scoped>\n",
              "    .dataframe tbody tr th:only-of-type {\n",
              "        vertical-align: middle;\n",
              "    }\n",
              "\n",
              "    .dataframe tbody tr th {\n",
              "        vertical-align: top;\n",
              "    }\n",
              "\n",
              "    .dataframe thead th {\n",
              "        text-align: right;\n",
              "    }\n",
              "</style>\n",
              "<table border=\"1\" class=\"dataframe\">\n",
              "  <thead>\n",
              "    <tr style=\"text-align: right;\">\n",
              "      <th></th>\n",
              "      <th>id</th>\n",
              "      <th>age</th>\n",
              "      <th>gender</th>\n",
              "      <th>race</th>\n",
              "      <th>driving_experience</th>\n",
              "      <th>education</th>\n",
              "      <th>income</th>\n",
              "      <th>credit_score</th>\n",
              "      <th>vehicle_ownership</th>\n",
              "      <th>vehicle_year</th>\n",
              "      <th>married</th>\n",
              "      <th>children</th>\n",
              "      <th>postal_code</th>\n",
              "      <th>annual_mileage</th>\n",
              "      <th>vehicle_type</th>\n",
              "      <th>speeding_violations</th>\n",
              "      <th>DUIs</th>\n",
              "      <th>past_accidents</th>\n",
              "      <th>outcome</th>\n",
              "    </tr>\n",
              "  </thead>\n",
              "  <tbody>\n",
              "    <tr>\n",
              "      <th>0</th>\n",
              "      <td>569520</td>\n",
              "      <td>65+</td>\n",
              "      <td>female</td>\n",
              "      <td>majority</td>\n",
              "      <td>0-9y</td>\n",
              "      <td>high school</td>\n",
              "      <td>upper class</td>\n",
              "      <td>0.629027</td>\n",
              "      <td>True</td>\n",
              "      <td>after 2015</td>\n",
              "      <td>False</td>\n",
              "      <td>True</td>\n",
              "      <td>10238</td>\n",
              "      <td>12000.0</td>\n",
              "      <td>sedan</td>\n",
              "      <td>0</td>\n",
              "      <td>0</td>\n",
              "      <td>0</td>\n",
              "      <td>False</td>\n",
              "    </tr>\n",
              "    <tr>\n",
              "      <th>1</th>\n",
              "      <td>750365</td>\n",
              "      <td>16-25</td>\n",
              "      <td>male</td>\n",
              "      <td>majority</td>\n",
              "      <td>0-9y</td>\n",
              "      <td>none</td>\n",
              "      <td>poverty</td>\n",
              "      <td>0.357757</td>\n",
              "      <td>False</td>\n",
              "      <td>before 2015</td>\n",
              "      <td>False</td>\n",
              "      <td>False</td>\n",
              "      <td>10238</td>\n",
              "      <td>16000.0</td>\n",
              "      <td>sedan</td>\n",
              "      <td>0</td>\n",
              "      <td>0</td>\n",
              "      <td>0</td>\n",
              "      <td>True</td>\n",
              "    </tr>\n",
              "    <tr>\n",
              "      <th>2</th>\n",
              "      <td>199901</td>\n",
              "      <td>16-25</td>\n",
              "      <td>female</td>\n",
              "      <td>majority</td>\n",
              "      <td>0-9y</td>\n",
              "      <td>high school</td>\n",
              "      <td>working class</td>\n",
              "      <td>0.493146</td>\n",
              "      <td>True</td>\n",
              "      <td>before 2015</td>\n",
              "      <td>False</td>\n",
              "      <td>False</td>\n",
              "      <td>10238</td>\n",
              "      <td>11000.0</td>\n",
              "      <td>sedan</td>\n",
              "      <td>0</td>\n",
              "      <td>0</td>\n",
              "      <td>0</td>\n",
              "      <td>False</td>\n",
              "    </tr>\n",
              "    <tr>\n",
              "      <th>3</th>\n",
              "      <td>478866</td>\n",
              "      <td>16-25</td>\n",
              "      <td>male</td>\n",
              "      <td>majority</td>\n",
              "      <td>0-9y</td>\n",
              "      <td>university</td>\n",
              "      <td>working class</td>\n",
              "      <td>0.206013</td>\n",
              "      <td>True</td>\n",
              "      <td>before 2015</td>\n",
              "      <td>False</td>\n",
              "      <td>True</td>\n",
              "      <td>32765</td>\n",
              "      <td>11000.0</td>\n",
              "      <td>sedan</td>\n",
              "      <td>0</td>\n",
              "      <td>0</td>\n",
              "      <td>0</td>\n",
              "      <td>False</td>\n",
              "    </tr>\n",
              "    <tr>\n",
              "      <th>4</th>\n",
              "      <td>731664</td>\n",
              "      <td>26-39</td>\n",
              "      <td>male</td>\n",
              "      <td>majority</td>\n",
              "      <td>10-19y</td>\n",
              "      <td>none</td>\n",
              "      <td>working class</td>\n",
              "      <td>0.388366</td>\n",
              "      <td>True</td>\n",
              "      <td>before 2015</td>\n",
              "      <td>False</td>\n",
              "      <td>False</td>\n",
              "      <td>32765</td>\n",
              "      <td>12000.0</td>\n",
              "      <td>sedan</td>\n",
              "      <td>2</td>\n",
              "      <td>0</td>\n",
              "      <td>1</td>\n",
              "      <td>True</td>\n",
              "    </tr>\n",
              "  </tbody>\n",
              "</table>\n",
              "</div>"
            ],
            "text/plain": [
              "       id    age  gender  ... DUIs past_accidents outcome\n",
              "0  569520    65+  female  ...    0              0   False\n",
              "1  750365  16-25    male  ...    0              0    True\n",
              "2  199901  16-25  female  ...    0              0   False\n",
              "3  478866  16-25    male  ...    0              0   False\n",
              "4  731664  26-39    male  ...    0              1    True\n",
              "\n",
              "[5 rows x 19 columns]"
            ]
          },
          "metadata": {
            "tags": []
          },
          "execution_count": 4
        }
      ]
    },
    {
      "cell_type": "code",
      "metadata": {
        "colab": {
          "base_uri": "https://localhost:8080/"
        },
        "id": "8whOSUoG74XK",
        "outputId": "9be30c77-8cff-4334-b216-b5452000c328"
      },
      "source": [
        "x_data.shape"
      ],
      "execution_count": 5,
      "outputs": [
        {
          "output_type": "execute_result",
          "data": {
            "text/plain": [
              "(10000, 19)"
            ]
          },
          "metadata": {
            "tags": []
          },
          "execution_count": 5
        }
      ]
    },
    {
      "cell_type": "code",
      "metadata": {
        "colab": {
          "base_uri": "https://localhost:8080/"
        },
        "id": "L3WtGjyT7xc2",
        "outputId": "36d99995-cd1b-4dd9-89a2-86c30a03bbd1"
      },
      "source": [
        "x_data.info()"
      ],
      "execution_count": 6,
      "outputs": [
        {
          "output_type": "stream",
          "text": [
            "<class 'pandas.core.frame.DataFrame'>\n",
            "RangeIndex: 10000 entries, 0 to 9999\n",
            "Data columns (total 19 columns):\n",
            " #   Column               Non-Null Count  Dtype  \n",
            "---  ------               --------------  -----  \n",
            " 0   id                   10000 non-null  int64  \n",
            " 1   age                  10000 non-null  object \n",
            " 2   gender               10000 non-null  object \n",
            " 3   race                 10000 non-null  object \n",
            " 4   driving_experience   10000 non-null  object \n",
            " 5   education            10000 non-null  object \n",
            " 6   income               10000 non-null  object \n",
            " 7   credit_score         9018 non-null   float64\n",
            " 8   vehicle_ownership    10000 non-null  bool   \n",
            " 9   vehicle_year         10000 non-null  object \n",
            " 10  married              10000 non-null  bool   \n",
            " 11  children             10000 non-null  bool   \n",
            " 12  postal_code          10000 non-null  int64  \n",
            " 13  annual_mileage       9043 non-null   float64\n",
            " 14  vehicle_type         10000 non-null  object \n",
            " 15  speeding_violations  10000 non-null  int64  \n",
            " 16  DUIs                 10000 non-null  int64  \n",
            " 17  past_accidents       10000 non-null  int64  \n",
            " 18  outcome              10000 non-null  bool   \n",
            "dtypes: bool(4), float64(2), int64(5), object(8)\n",
            "memory usage: 1.2+ MB\n"
          ],
          "name": "stdout"
        }
      ]
    },
    {
      "cell_type": "code",
      "metadata": {
        "colab": {
          "base_uri": "https://localhost:8080/"
        },
        "id": "hfrNxrLI0U9x",
        "outputId": "8cb4f9c5-9446-44ca-a2cc-9b67534d084d"
      },
      "source": [
        "x_data.isna().sum()"
      ],
      "execution_count": 7,
      "outputs": [
        {
          "output_type": "execute_result",
          "data": {
            "text/plain": [
              "id                       0\n",
              "age                      0\n",
              "gender                   0\n",
              "race                     0\n",
              "driving_experience       0\n",
              "education                0\n",
              "income                   0\n",
              "credit_score           982\n",
              "vehicle_ownership        0\n",
              "vehicle_year             0\n",
              "married                  0\n",
              "children                 0\n",
              "postal_code              0\n",
              "annual_mileage         957\n",
              "vehicle_type             0\n",
              "speeding_violations      0\n",
              "DUIs                     0\n",
              "past_accidents           0\n",
              "outcome                  0\n",
              "dtype: int64"
            ]
          },
          "metadata": {
            "tags": []
          },
          "execution_count": 7
        }
      ]
    },
    {
      "cell_type": "markdown",
      "metadata": {
        "id": "n2O-dTYY735y"
      },
      "source": [
        "object -> gender, race, education, income,\n"
      ]
    },
    {
      "cell_type": "markdown",
      "metadata": {
        "id": "s-aXoKAS7vVg"
      },
      "source": [
        "bool -> vehicle ownership, married, children, outcome, vehicle year, age, driving exp, vehicle type"
      ]
    },
    {
      "cell_type": "markdown",
      "metadata": {
        "id": "Bu-jI1OxET6X"
      },
      "source": [
        "Work:\n",
        "\n",
        "1. Label Encoding of categorical features and create all classes in int\n",
        "2. Filling Null Values through 3rd step\n",
        "3. Feature Co-relation and importance\n",
        "4. Answer ques in code\n",
        "5. Answer descriptive ques\n",
        "6. Classification Models apply -> best wle and predict accuracy"
      ]
    },
    {
      "cell_type": "code",
      "metadata": {
        "colab": {
          "base_uri": "https://localhost:8080/",
          "height": 307
        },
        "id": "QF_dE_lpAbgQ",
        "outputId": "099427a9-16fe-4a33-9b0f-36543d226a62"
      },
      "source": [
        "''' Converting bool to int '''\n",
        "\n",
        "bool1 = x_data['vehicle_ownership'].astype(int)\n",
        "x_data['vehicle_ownership'] = bool1\n",
        "bool2 = x_data['married'].astype(int)\n",
        "x_data['married'] = bool2\n",
        "bool3 = x_data['children'].astype(int)\n",
        "x_data['children'] = bool3\n",
        "bool4 = x_data['outcome'].astype(int)\n",
        "x_data['outcome'] = bool4\n",
        "x_data.head()"
      ],
      "execution_count": 8,
      "outputs": [
        {
          "output_type": "execute_result",
          "data": {
            "text/html": [
              "<div>\n",
              "<style scoped>\n",
              "    .dataframe tbody tr th:only-of-type {\n",
              "        vertical-align: middle;\n",
              "    }\n",
              "\n",
              "    .dataframe tbody tr th {\n",
              "        vertical-align: top;\n",
              "    }\n",
              "\n",
              "    .dataframe thead th {\n",
              "        text-align: right;\n",
              "    }\n",
              "</style>\n",
              "<table border=\"1\" class=\"dataframe\">\n",
              "  <thead>\n",
              "    <tr style=\"text-align: right;\">\n",
              "      <th></th>\n",
              "      <th>id</th>\n",
              "      <th>age</th>\n",
              "      <th>gender</th>\n",
              "      <th>race</th>\n",
              "      <th>driving_experience</th>\n",
              "      <th>education</th>\n",
              "      <th>income</th>\n",
              "      <th>credit_score</th>\n",
              "      <th>vehicle_ownership</th>\n",
              "      <th>vehicle_year</th>\n",
              "      <th>married</th>\n",
              "      <th>children</th>\n",
              "      <th>postal_code</th>\n",
              "      <th>annual_mileage</th>\n",
              "      <th>vehicle_type</th>\n",
              "      <th>speeding_violations</th>\n",
              "      <th>DUIs</th>\n",
              "      <th>past_accidents</th>\n",
              "      <th>outcome</th>\n",
              "    </tr>\n",
              "  </thead>\n",
              "  <tbody>\n",
              "    <tr>\n",
              "      <th>0</th>\n",
              "      <td>569520</td>\n",
              "      <td>65+</td>\n",
              "      <td>female</td>\n",
              "      <td>majority</td>\n",
              "      <td>0-9y</td>\n",
              "      <td>high school</td>\n",
              "      <td>upper class</td>\n",
              "      <td>0.629027</td>\n",
              "      <td>1</td>\n",
              "      <td>after 2015</td>\n",
              "      <td>0</td>\n",
              "      <td>1</td>\n",
              "      <td>10238</td>\n",
              "      <td>12000.0</td>\n",
              "      <td>sedan</td>\n",
              "      <td>0</td>\n",
              "      <td>0</td>\n",
              "      <td>0</td>\n",
              "      <td>0</td>\n",
              "    </tr>\n",
              "    <tr>\n",
              "      <th>1</th>\n",
              "      <td>750365</td>\n",
              "      <td>16-25</td>\n",
              "      <td>male</td>\n",
              "      <td>majority</td>\n",
              "      <td>0-9y</td>\n",
              "      <td>none</td>\n",
              "      <td>poverty</td>\n",
              "      <td>0.357757</td>\n",
              "      <td>0</td>\n",
              "      <td>before 2015</td>\n",
              "      <td>0</td>\n",
              "      <td>0</td>\n",
              "      <td>10238</td>\n",
              "      <td>16000.0</td>\n",
              "      <td>sedan</td>\n",
              "      <td>0</td>\n",
              "      <td>0</td>\n",
              "      <td>0</td>\n",
              "      <td>1</td>\n",
              "    </tr>\n",
              "    <tr>\n",
              "      <th>2</th>\n",
              "      <td>199901</td>\n",
              "      <td>16-25</td>\n",
              "      <td>female</td>\n",
              "      <td>majority</td>\n",
              "      <td>0-9y</td>\n",
              "      <td>high school</td>\n",
              "      <td>working class</td>\n",
              "      <td>0.493146</td>\n",
              "      <td>1</td>\n",
              "      <td>before 2015</td>\n",
              "      <td>0</td>\n",
              "      <td>0</td>\n",
              "      <td>10238</td>\n",
              "      <td>11000.0</td>\n",
              "      <td>sedan</td>\n",
              "      <td>0</td>\n",
              "      <td>0</td>\n",
              "      <td>0</td>\n",
              "      <td>0</td>\n",
              "    </tr>\n",
              "    <tr>\n",
              "      <th>3</th>\n",
              "      <td>478866</td>\n",
              "      <td>16-25</td>\n",
              "      <td>male</td>\n",
              "      <td>majority</td>\n",
              "      <td>0-9y</td>\n",
              "      <td>university</td>\n",
              "      <td>working class</td>\n",
              "      <td>0.206013</td>\n",
              "      <td>1</td>\n",
              "      <td>before 2015</td>\n",
              "      <td>0</td>\n",
              "      <td>1</td>\n",
              "      <td>32765</td>\n",
              "      <td>11000.0</td>\n",
              "      <td>sedan</td>\n",
              "      <td>0</td>\n",
              "      <td>0</td>\n",
              "      <td>0</td>\n",
              "      <td>0</td>\n",
              "    </tr>\n",
              "    <tr>\n",
              "      <th>4</th>\n",
              "      <td>731664</td>\n",
              "      <td>26-39</td>\n",
              "      <td>male</td>\n",
              "      <td>majority</td>\n",
              "      <td>10-19y</td>\n",
              "      <td>none</td>\n",
              "      <td>working class</td>\n",
              "      <td>0.388366</td>\n",
              "      <td>1</td>\n",
              "      <td>before 2015</td>\n",
              "      <td>0</td>\n",
              "      <td>0</td>\n",
              "      <td>32765</td>\n",
              "      <td>12000.0</td>\n",
              "      <td>sedan</td>\n",
              "      <td>2</td>\n",
              "      <td>0</td>\n",
              "      <td>1</td>\n",
              "      <td>1</td>\n",
              "    </tr>\n",
              "  </tbody>\n",
              "</table>\n",
              "</div>"
            ],
            "text/plain": [
              "       id    age  gender  ... DUIs past_accidents outcome\n",
              "0  569520    65+  female  ...    0              0       0\n",
              "1  750365  16-25    male  ...    0              0       1\n",
              "2  199901  16-25  female  ...    0              0       0\n",
              "3  478866  16-25    male  ...    0              0       0\n",
              "4  731664  26-39    male  ...    0              1       1\n",
              "\n",
              "[5 rows x 19 columns]"
            ]
          },
          "metadata": {
            "tags": []
          },
          "execution_count": 8
        }
      ]
    },
    {
      "cell_type": "code",
      "metadata": {
        "colab": {
          "base_uri": "https://localhost:8080/"
        },
        "id": "r0tnZ9gwJd6U",
        "outputId": "a95fc842-5424-426b-ace6-e41a9b3ae7b3"
      },
      "source": [
        "x_data['age'].unique()"
      ],
      "execution_count": 9,
      "outputs": [
        {
          "output_type": "execute_result",
          "data": {
            "text/plain": [
              "array(['65+', '16-25', '26-39', '40-64'], dtype=object)"
            ]
          },
          "metadata": {
            "tags": []
          },
          "execution_count": 9
        }
      ]
    },
    {
      "cell_type": "code",
      "metadata": {
        "colab": {
          "base_uri": "https://localhost:8080/"
        },
        "id": "_Tt73fGiJkNs",
        "outputId": "87a8d1a8-5356-41b3-c675-894bb0ba0c7c"
      },
      "source": [
        "x_data['driving_experience'].unique()"
      ],
      "execution_count": 10,
      "outputs": [
        {
          "output_type": "execute_result",
          "data": {
            "text/plain": [
              "array(['0-9y', '10-19y', '20-29y', '30y+'], dtype=object)"
            ]
          },
          "metadata": {
            "tags": []
          },
          "execution_count": 10
        }
      ]
    },
    {
      "cell_type": "code",
      "metadata": {
        "colab": {
          "base_uri": "https://localhost:8080/"
        },
        "id": "UhmUpMhVJ01A",
        "outputId": "7d23e1a9-ce9d-4d41-fa4c-5f34992f714a"
      },
      "source": [
        "x_data['race'].unique()"
      ],
      "execution_count": 11,
      "outputs": [
        {
          "output_type": "execute_result",
          "data": {
            "text/plain": [
              "array(['majority', 'minority'], dtype=object)"
            ]
          },
          "metadata": {
            "tags": []
          },
          "execution_count": 11
        }
      ]
    },
    {
      "cell_type": "code",
      "metadata": {
        "colab": {
          "base_uri": "https://localhost:8080/"
        },
        "id": "J7Ee6UpXJ6qT",
        "outputId": "07909636-cc20-4eb8-a3b2-ee447c59d0e5"
      },
      "source": [
        "x_data['education'].unique()"
      ],
      "execution_count": 12,
      "outputs": [
        {
          "output_type": "execute_result",
          "data": {
            "text/plain": [
              "array(['high school', 'none', 'university'], dtype=object)"
            ]
          },
          "metadata": {
            "tags": []
          },
          "execution_count": 12
        }
      ]
    },
    {
      "cell_type": "code",
      "metadata": {
        "colab": {
          "base_uri": "https://localhost:8080/"
        },
        "id": "YeOPiEEaKAmN",
        "outputId": "4d8b2a4a-070c-45d5-e376-c754edf7c882"
      },
      "source": [
        "x_data['income'].unique()"
      ],
      "execution_count": 13,
      "outputs": [
        {
          "output_type": "execute_result",
          "data": {
            "text/plain": [
              "array(['upper class', 'poverty', 'working class', 'middle class'],\n",
              "      dtype=object)"
            ]
          },
          "metadata": {
            "tags": []
          },
          "execution_count": 13
        }
      ]
    },
    {
      "cell_type": "code",
      "metadata": {
        "colab": {
          "base_uri": "https://localhost:8080/"
        },
        "id": "v7UuCMqyKC_J",
        "outputId": "d6687af9-dd4e-4b7f-a7b3-043eeb5beeb1"
      },
      "source": [
        "x_data['vehicle_year'].unique()"
      ],
      "execution_count": 14,
      "outputs": [
        {
          "output_type": "execute_result",
          "data": {
            "text/plain": [
              "array(['after 2015', 'before 2015'], dtype=object)"
            ]
          },
          "metadata": {
            "tags": []
          },
          "execution_count": 14
        }
      ]
    },
    {
      "cell_type": "code",
      "metadata": {
        "colab": {
          "base_uri": "https://localhost:8080/"
        },
        "id": "8PDBF3OjKH4t",
        "outputId": "dc95a981-b05f-4dc1-800e-3ffbf32331b5"
      },
      "source": [
        "x_data['vehicle_type'].unique()"
      ],
      "execution_count": 15,
      "outputs": [
        {
          "output_type": "execute_result",
          "data": {
            "text/plain": [
              "array(['sedan', 'sports car'], dtype=object)"
            ]
          },
          "metadata": {
            "tags": []
          },
          "execution_count": 15
        }
      ]
    },
    {
      "cell_type": "code",
      "metadata": {
        "colab": {
          "base_uri": "https://localhost:8080/"
        },
        "id": "v2ZHeoeDKPar",
        "outputId": "64a4049b-003b-4cd5-f42f-132764ef0404"
      },
      "source": [
        "x_data['gender'].unique()"
      ],
      "execution_count": 16,
      "outputs": [
        {
          "output_type": "execute_result",
          "data": {
            "text/plain": [
              "array(['female', 'male'], dtype=object)"
            ]
          },
          "metadata": {
            "tags": []
          },
          "execution_count": 16
        }
      ]
    },
    {
      "cell_type": "code",
      "metadata": {
        "colab": {
          "base_uri": "https://localhost:8080/"
        },
        "id": "c5fspv94K6Mm",
        "outputId": "11e8ac76-1720-420c-fe35-d201c0fb06ef"
      },
      "source": [
        "# Get  columns whose data type is object i.e. string\n",
        "filteredColumns = x_data.dtypes[x_data.dtypes == np.object]\n",
        "# list of columns whose data type is object i.e. string\n",
        "listOfColumnNames = list(filteredColumns.index)\n",
        "print(listOfColumnNames)"
      ],
      "execution_count": 17,
      "outputs": [
        {
          "output_type": "stream",
          "text": [
            "['age', 'gender', 'race', 'driving_experience', 'education', 'income', 'vehicle_year', 'vehicle_type']\n"
          ],
          "name": "stdout"
        }
      ]
    },
    {
      "cell_type": "code",
      "metadata": {
        "colab": {
          "base_uri": "https://localhost:8080/",
          "height": 223
        },
        "id": "5sj7sutSD1DV",
        "outputId": "341f2052-719f-40af-d47d-1c7c9ff75871"
      },
      "source": [
        "''' Converting object into int classes '''\n",
        "import pandas as pd\n",
        "import numpy as np\n",
        "# Import label encoder \n",
        "from sklearn import preprocessing\n",
        "# label_encoder object knows how to understand word labels. \n",
        "label_encoder = preprocessing.LabelEncoder()\n",
        "# Encode labels in column 'Country'. \n",
        "x_data['age']= label_encoder.fit_transform(x_data['age']) \n",
        "x_data['gender']= label_encoder.fit_transform(x_data['gender']) \n",
        "x_data['race']= label_encoder.fit_transform(x_data['race']) \n",
        "x_data['driving_experience']= label_encoder.fit_transform(x_data['driving_experience']) \n",
        "x_data['education']= label_encoder.fit_transform(x_data['education']) \n",
        "x_data['income']= label_encoder.fit_transform(x_data['income']) \n",
        "x_data['vehicle_year']= label_encoder.fit_transform(x_data['vehicle_year']) \n",
        "x_data['vehicle_type']= label_encoder.fit_transform(x_data['vehicle_type']) \n",
        "x_data.head()"
      ],
      "execution_count": 18,
      "outputs": [
        {
          "output_type": "execute_result",
          "data": {
            "text/html": [
              "<div>\n",
              "<style scoped>\n",
              "    .dataframe tbody tr th:only-of-type {\n",
              "        vertical-align: middle;\n",
              "    }\n",
              "\n",
              "    .dataframe tbody tr th {\n",
              "        vertical-align: top;\n",
              "    }\n",
              "\n",
              "    .dataframe thead th {\n",
              "        text-align: right;\n",
              "    }\n",
              "</style>\n",
              "<table border=\"1\" class=\"dataframe\">\n",
              "  <thead>\n",
              "    <tr style=\"text-align: right;\">\n",
              "      <th></th>\n",
              "      <th>id</th>\n",
              "      <th>age</th>\n",
              "      <th>gender</th>\n",
              "      <th>race</th>\n",
              "      <th>driving_experience</th>\n",
              "      <th>education</th>\n",
              "      <th>income</th>\n",
              "      <th>credit_score</th>\n",
              "      <th>vehicle_ownership</th>\n",
              "      <th>vehicle_year</th>\n",
              "      <th>married</th>\n",
              "      <th>children</th>\n",
              "      <th>postal_code</th>\n",
              "      <th>annual_mileage</th>\n",
              "      <th>vehicle_type</th>\n",
              "      <th>speeding_violations</th>\n",
              "      <th>DUIs</th>\n",
              "      <th>past_accidents</th>\n",
              "      <th>outcome</th>\n",
              "    </tr>\n",
              "  </thead>\n",
              "  <tbody>\n",
              "    <tr>\n",
              "      <th>0</th>\n",
              "      <td>569520</td>\n",
              "      <td>3</td>\n",
              "      <td>0</td>\n",
              "      <td>0</td>\n",
              "      <td>0</td>\n",
              "      <td>0</td>\n",
              "      <td>2</td>\n",
              "      <td>0.629027</td>\n",
              "      <td>1</td>\n",
              "      <td>0</td>\n",
              "      <td>0</td>\n",
              "      <td>1</td>\n",
              "      <td>10238</td>\n",
              "      <td>12000.0</td>\n",
              "      <td>0</td>\n",
              "      <td>0</td>\n",
              "      <td>0</td>\n",
              "      <td>0</td>\n",
              "      <td>0</td>\n",
              "    </tr>\n",
              "    <tr>\n",
              "      <th>1</th>\n",
              "      <td>750365</td>\n",
              "      <td>0</td>\n",
              "      <td>1</td>\n",
              "      <td>0</td>\n",
              "      <td>0</td>\n",
              "      <td>1</td>\n",
              "      <td>1</td>\n",
              "      <td>0.357757</td>\n",
              "      <td>0</td>\n",
              "      <td>1</td>\n",
              "      <td>0</td>\n",
              "      <td>0</td>\n",
              "      <td>10238</td>\n",
              "      <td>16000.0</td>\n",
              "      <td>0</td>\n",
              "      <td>0</td>\n",
              "      <td>0</td>\n",
              "      <td>0</td>\n",
              "      <td>1</td>\n",
              "    </tr>\n",
              "    <tr>\n",
              "      <th>2</th>\n",
              "      <td>199901</td>\n",
              "      <td>0</td>\n",
              "      <td>0</td>\n",
              "      <td>0</td>\n",
              "      <td>0</td>\n",
              "      <td>0</td>\n",
              "      <td>3</td>\n",
              "      <td>0.493146</td>\n",
              "      <td>1</td>\n",
              "      <td>1</td>\n",
              "      <td>0</td>\n",
              "      <td>0</td>\n",
              "      <td>10238</td>\n",
              "      <td>11000.0</td>\n",
              "      <td>0</td>\n",
              "      <td>0</td>\n",
              "      <td>0</td>\n",
              "      <td>0</td>\n",
              "      <td>0</td>\n",
              "    </tr>\n",
              "    <tr>\n",
              "      <th>3</th>\n",
              "      <td>478866</td>\n",
              "      <td>0</td>\n",
              "      <td>1</td>\n",
              "      <td>0</td>\n",
              "      <td>0</td>\n",
              "      <td>2</td>\n",
              "      <td>3</td>\n",
              "      <td>0.206013</td>\n",
              "      <td>1</td>\n",
              "      <td>1</td>\n",
              "      <td>0</td>\n",
              "      <td>1</td>\n",
              "      <td>32765</td>\n",
              "      <td>11000.0</td>\n",
              "      <td>0</td>\n",
              "      <td>0</td>\n",
              "      <td>0</td>\n",
              "      <td>0</td>\n",
              "      <td>0</td>\n",
              "    </tr>\n",
              "    <tr>\n",
              "      <th>4</th>\n",
              "      <td>731664</td>\n",
              "      <td>1</td>\n",
              "      <td>1</td>\n",
              "      <td>0</td>\n",
              "      <td>1</td>\n",
              "      <td>1</td>\n",
              "      <td>3</td>\n",
              "      <td>0.388366</td>\n",
              "      <td>1</td>\n",
              "      <td>1</td>\n",
              "      <td>0</td>\n",
              "      <td>0</td>\n",
              "      <td>32765</td>\n",
              "      <td>12000.0</td>\n",
              "      <td>0</td>\n",
              "      <td>2</td>\n",
              "      <td>0</td>\n",
              "      <td>1</td>\n",
              "      <td>1</td>\n",
              "    </tr>\n",
              "  </tbody>\n",
              "</table>\n",
              "</div>"
            ],
            "text/plain": [
              "       id  age  gender  ...  DUIs  past_accidents  outcome\n",
              "0  569520    3       0  ...     0               0        0\n",
              "1  750365    0       1  ...     0               0        1\n",
              "2  199901    0       0  ...     0               0        0\n",
              "3  478866    0       1  ...     0               0        0\n",
              "4  731664    1       1  ...     0               1        1\n",
              "\n",
              "[5 rows x 19 columns]"
            ]
          },
          "metadata": {
            "tags": []
          },
          "execution_count": 18
        }
      ]
    },
    {
      "cell_type": "code",
      "metadata": {
        "colab": {
          "base_uri": "https://localhost:8080/"
        },
        "id": "vb7Kgp4rMmjN",
        "outputId": "01f1e672-e1b1-4793-9779-346723e03652"
      },
      "source": [
        "x_data.isna().sum()"
      ],
      "execution_count": 19,
      "outputs": [
        {
          "output_type": "execute_result",
          "data": {
            "text/plain": [
              "id                       0\n",
              "age                      0\n",
              "gender                   0\n",
              "race                     0\n",
              "driving_experience       0\n",
              "education                0\n",
              "income                   0\n",
              "credit_score           982\n",
              "vehicle_ownership        0\n",
              "vehicle_year             0\n",
              "married                  0\n",
              "children                 0\n",
              "postal_code              0\n",
              "annual_mileage         957\n",
              "vehicle_type             0\n",
              "speeding_violations      0\n",
              "DUIs                     0\n",
              "past_accidents           0\n",
              "outcome                  0\n",
              "dtype: int64"
            ]
          },
          "metadata": {
            "tags": []
          },
          "execution_count": 19
        }
      ]
    },
    {
      "cell_type": "code",
      "metadata": {
        "colab": {
          "base_uri": "https://localhost:8080/"
        },
        "id": "vUJRA-bOC-s8",
        "outputId": "1ac27c69-a4b4-463e-fb40-6b9d04479ad4"
      },
      "source": [
        "x_data.info()"
      ],
      "execution_count": 20,
      "outputs": [
        {
          "output_type": "stream",
          "text": [
            "<class 'pandas.core.frame.DataFrame'>\n",
            "RangeIndex: 10000 entries, 0 to 9999\n",
            "Data columns (total 19 columns):\n",
            " #   Column               Non-Null Count  Dtype  \n",
            "---  ------               --------------  -----  \n",
            " 0   id                   10000 non-null  int64  \n",
            " 1   age                  10000 non-null  int64  \n",
            " 2   gender               10000 non-null  int64  \n",
            " 3   race                 10000 non-null  int64  \n",
            " 4   driving_experience   10000 non-null  int64  \n",
            " 5   education            10000 non-null  int64  \n",
            " 6   income               10000 non-null  int64  \n",
            " 7   credit_score         9018 non-null   float64\n",
            " 8   vehicle_ownership    10000 non-null  int64  \n",
            " 9   vehicle_year         10000 non-null  int64  \n",
            " 10  married              10000 non-null  int64  \n",
            " 11  children             10000 non-null  int64  \n",
            " 12  postal_code          10000 non-null  int64  \n",
            " 13  annual_mileage       9043 non-null   float64\n",
            " 14  vehicle_type         10000 non-null  int64  \n",
            " 15  speeding_violations  10000 non-null  int64  \n",
            " 16  DUIs                 10000 non-null  int64  \n",
            " 17  past_accidents       10000 non-null  int64  \n",
            " 18  outcome              10000 non-null  int64  \n",
            "dtypes: float64(2), int64(17)\n",
            "memory usage: 1.4 MB\n"
          ],
          "name": "stdout"
        }
      ]
    },
    {
      "cell_type": "code",
      "metadata": {
        "id": "PQqu8ZBHUdTq"
      },
      "source": [
        "credit_score_mean = x_data['credit_score'].mean()\n",
        "x_data['credit_score'].fillna(value = credit_score_mean, inplace = True)\n",
        "annual_mileage_mean = x_data['annual_mileage'].mean()\n",
        "x_data['annual_mileage'].fillna(value = annual_mileage_mean, inplace = True)"
      ],
      "execution_count": 21,
      "outputs": []
    },
    {
      "cell_type": "code",
      "metadata": {
        "colab": {
          "base_uri": "https://localhost:8080/"
        },
        "id": "Jjh8GLprWlbZ",
        "outputId": "5e489299-7fed-4ff3-abbd-349aadbb5cee"
      },
      "source": [
        "x_data.isna().sum()"
      ],
      "execution_count": 22,
      "outputs": [
        {
          "output_type": "execute_result",
          "data": {
            "text/plain": [
              "id                     0\n",
              "age                    0\n",
              "gender                 0\n",
              "race                   0\n",
              "driving_experience     0\n",
              "education              0\n",
              "income                 0\n",
              "credit_score           0\n",
              "vehicle_ownership      0\n",
              "vehicle_year           0\n",
              "married                0\n",
              "children               0\n",
              "postal_code            0\n",
              "annual_mileage         0\n",
              "vehicle_type           0\n",
              "speeding_violations    0\n",
              "DUIs                   0\n",
              "past_accidents         0\n",
              "outcome                0\n",
              "dtype: int64"
            ]
          },
          "metadata": {
            "tags": []
          },
          "execution_count": 22
        }
      ]
    },
    {
      "cell_type": "code",
      "metadata": {
        "id": "E3kirJfEdPWf"
      },
      "source": [
        "from matplotlib import pyplot as plt\n",
        "import seaborn as sns"
      ],
      "execution_count": 26,
      "outputs": []
    },
    {
      "cell_type": "code",
      "metadata": {
        "colab": {
          "base_uri": "https://localhost:8080/",
          "height": 814
        },
        "id": "nas-saW0YDpC",
        "outputId": "da32ab53-5bbd-4191-b643-cdf6457b33cb"
      },
      "source": [
        "\"\"\"Storing all the continuous train data in x_cont\"\"\"\n",
        "x_cont = x_data.select_dtypes('int64')\n",
        "'''Finding Correlation between continuous features '''\n",
        "x_cont['outcome'] = x_data['outcome']\n",
        "plt.figure(figsize = (15,10))\n",
        "correlation = x_cont.corr()\n",
        "sns.heatmap(correlation,annot=True)\n",
        "plt.title('Correlation heatmap')"
      ],
      "execution_count": 27,
      "outputs": [
        {
          "output_type": "stream",
          "text": [
            "/usr/local/lib/python3.7/dist-packages/ipykernel_launcher.py:4: SettingWithCopyWarning: \n",
            "A value is trying to be set on a copy of a slice from a DataFrame.\n",
            "Try using .loc[row_indexer,col_indexer] = value instead\n",
            "\n",
            "See the caveats in the documentation: https://pandas.pydata.org/pandas-docs/stable/user_guide/indexing.html#returning-a-view-versus-a-copy\n",
            "  after removing the cwd from sys.path.\n"
          ],
          "name": "stderr"
        },
        {
          "output_type": "execute_result",
          "data": {
            "text/plain": [
              "Text(0.5, 1.0, 'Correlation heatmap')"
            ]
          },
          "metadata": {
            "tags": []
          },
          "execution_count": 27
        },
        {
          "output_type": "display_data",
          "data": {
            "image/png": "[encoded data removed]",
            "text/plain": [
              "<Figure size 1080x720 with 2 Axes>"
            ]
          },
          "metadata": {
            "tags": [],
            "needs_background": "light"
          }
        }
      ]
    },
    {
      "cell_type": "code",
      "metadata": {
        "id": "nEaevXFmfHil"
      },
      "source": [
        "from sklearn.linear_model import LogisticRegression\n",
        "from sklearn.metrics import classification_report\n",
        "from sklearn.metrics import confusion_matrix\n",
        "from sklearn.model_selection import train_test_split"
      ],
      "execution_count": 31,
      "outputs": []
    },
    {
      "cell_type": "code",
      "metadata": {
        "id": "MH4m6Rq1mRAM"
      },
      "source": [
        "X = x_data.loc[:, x_data.columns != 'outcome']"
      ],
      "execution_count": 32,
      "outputs": []
    },
    {
      "cell_type": "code",
      "metadata": {
        "id": "hdqt6gm8miqr"
      },
      "source": [
        "y = x_data['outcome']"
      ],
      "execution_count": 33,
      "outputs": []
    },
    {
      "cell_type": "code",
      "metadata": {
        "id": "jL9y-y6ZlL5W"
      },
      "source": [
        "X_train, X_test, y_train, y_test = train_test_split(X, y, test_size=0.25, random_state=42)"
      ],
      "execution_count": 34,
      "outputs": []
    },
    {
      "cell_type": "markdown",
      "metadata": {
        "id": "tKXyohExn9YW"
      },
      "source": [
        "Logistic Regression"
      ]
    },
    {
      "cell_type": "code",
      "metadata": {
        "id": "uzIFinpwm3wB"
      },
      "source": [
        "lr =  LogisticRegression()\n",
        "lr.fit(X_train, y_train)\n",
        "y_pred=lr.predict(X_test)"
      ],
      "execution_count": 35,
      "outputs": []
    },
    {
      "cell_type": "code",
      "metadata": {
        "colab": {
          "base_uri": "https://localhost:8080/"
        },
        "id": "wZ53yKHQnfNJ",
        "outputId": "803db280-eb42-44ae-a21e-9f28f412764f"
      },
      "source": [
        "lr_score = lr.score(X_test, y_test)\n",
        "print(lr_score)"
      ],
      "execution_count": 72,
      "outputs": [
        {
          "output_type": "stream",
          "text": [
            "0.6888\n"
          ],
          "name": "stdout"
        }
      ]
    },
    {
      "cell_type": "markdown",
      "metadata": {
        "id": "fc5b63JaoA--"
      },
      "source": [
        "Naive Bayes"
      ]
    },
    {
      "cell_type": "code",
      "metadata": {
        "id": "KMALHO2gnoZ5"
      },
      "source": [
        "from sklearn.naive_bayes import GaussianNB\n"
      ],
      "execution_count": 40,
      "outputs": []
    },
    {
      "cell_type": "code",
      "metadata": {
        "colab": {
          "base_uri": "https://localhost:8080/"
        },
        "id": "YKKMX92KoPVS",
        "outputId": "b8e11d71-8471-45e4-c547-640b4e1ce4ce"
      },
      "source": [
        "nb =  GaussianNB()\n",
        "nb.fit(X_train, y_train)\n",
        "y_pred=nb.predict(X_test)\n",
        "nb_score = nb.score(X_test, y_test)\n",
        "print(nb_score)"
      ],
      "execution_count": 41,
      "outputs": [
        {
          "output_type": "stream",
          "text": [
            "0.6952\n"
          ],
          "name": "stdout"
        }
      ]
    },
    {
      "cell_type": "markdown",
      "metadata": {
        "id": "cnaD_ioppk_B"
      },
      "source": [
        "Stoochastic Gradient Descent"
      ]
    },
    {
      "cell_type": "code",
      "metadata": {
        "id": "jei8tDNypfgt"
      },
      "source": [
        "from sklearn.linear_model import SGDClassifier"
      ],
      "execution_count": 42,
      "outputs": []
    },
    {
      "cell_type": "code",
      "metadata": {
        "colab": {
          "base_uri": "https://localhost:8080/"
        },
        "id": "xuYIcydYpuO6",
        "outputId": "f98ad190-cadf-4d8d-bdc0-9bd8c247aab5"
      },
      "source": [
        "sgd =  SGDClassifier(loss='modified_huber', shuffle=True,random_state=101)\n",
        "sgd.fit(X_train, y_train)\n",
        "y_pred=sgd.predict(X_test)\n",
        "sgd_score = sgd.score(X_test, y_test)\n",
        "print(sgd_score)"
      ],
      "execution_count": 52,
      "outputs": [
        {
          "output_type": "stream",
          "text": [
            "0.3108\n"
          ],
          "name": "stdout"
        }
      ]
    },
    {
      "cell_type": "code",
      "metadata": {
        "colab": {
          "base_uri": "https://localhost:8080/"
        },
        "id": "qU10JI8qrkOi",
        "outputId": "86c5f519-3dce-4cdc-efd4-6a461cc5fe4e"
      },
      "source": [
        "test_calc = pd.concat([pd.DataFrame(y_test).reset_index(drop=True),pd.DataFrame(y_pred).reset_index(drop=True)],axis=1)\n",
        "test_calc.rename(columns={0: 'predicted'}, inplace=True)\n",
        "\n",
        "test_calc['predicted'] = test_calc['predicted'].apply(lambda x: 1 if x > 0.5 else 0)\n",
        "df_table = confusion_matrix(test_calc['outcome'],test_calc['predicted'])\n",
        "print (df_table)\n",
        "\n",
        "print('accuracy:', (df_table[0,0] + df_table[1,1]) / (df_table[0,0] + df_table[0,1] + df_table[1,0] + df_table[1,1]))\n",
        "print ('precision:', df_table[1,1] / (df_table[1,1] + df_table[0,1]))\n",
        "print('recall:', df_table[1,1] / (df_table[1,1] + df_table[1,0]))\n",
        "\n",
        "p = df_table[1,1] / (df_table[1,1] + df_table[0,1])\n",
        "r = df_table[1,1] / (df_table[1,1] + df_table[1,0])\n",
        "print('f1 score: ', (2*p*r)/(p+r))"
      ],
      "execution_count": 53,
      "outputs": [
        {
          "output_type": "stream",
          "text": [
            "[[  13 1710]\n",
            " [  13  764]]\n",
            "accuracy: 0.3108\n",
            "precision: 0.3088116410670978\n",
            "recall: 0.9832689832689833\n",
            "f1 score:  0.47000922792986777\n"
          ],
          "name": "stdout"
        }
      ]
    },
    {
      "cell_type": "markdown",
      "metadata": {
        "id": "Ze2MlnWHq3cB"
      },
      "source": [
        "KNN"
      ]
    },
    {
      "cell_type": "code",
      "metadata": {
        "id": "7fbdWCw3p0gv"
      },
      "source": [
        "from sklearn.neighbors import KNeighborsClassifier"
      ],
      "execution_count": 45,
      "outputs": []
    },
    {
      "cell_type": "code",
      "metadata": {
        "id": "htblZjImq4sW"
      },
      "source": [
        "error_rate = []\n",
        "for i in range(1,51):    \n",
        "    knn = KNeighborsClassifier(n_neighbors=i)\n",
        "    knn.fit(X_train,y_train)\n",
        "    pred_i = knn.predict(X_test)\n",
        "    error_rate.append(np.mean(pred_i != y_test))"
      ],
      "execution_count": 46,
      "outputs": []
    },
    {
      "cell_type": "code",
      "metadata": {
        "colab": {
          "base_uri": "https://localhost:8080/",
          "height": 312
        },
        "id": "Zqxa2RBurAXt",
        "outputId": "f0b1d08a-cfe0-43b5-8f50-fb368b2875ac"
      },
      "source": [
        "plt.figure(figsize=(8,4))\n",
        "plt.plot(range(1,51),error_rate,color='darkred', marker='o',markersize=10)\n",
        "plt.title('Error Rate vs. K Value')\n",
        "plt.xlabel('K')\n",
        "plt.ylabel('Error Rate')"
      ],
      "execution_count": 47,
      "outputs": [
        {
          "output_type": "execute_result",
          "data": {
            "text/plain": [
              "Text(0, 0.5, 'Error Rate')"
            ]
          },
          "metadata": {
            "tags": []
          },
          "execution_count": 47
        },
        {
          "output_type": "display_data",
          "data": {
            "image/png": "[encoded data removed]",
            "text/plain": [
              "<Figure size 576x288 with 1 Axes>"
            ]
          },
          "metadata": {
            "tags": [],
            "needs_background": "light"
          }
        }
      ]
    },
    {
      "cell_type": "code",
      "metadata": {
        "id": "-aLuC9j4rE3_"
      },
      "source": [
        "knn = KNeighborsClassifier(n_neighbors=15)\n",
        "knn.fit(X_train,y_train)\n",
        "y_pred=knn.predict(X_test)"
      ],
      "execution_count": 48,
      "outputs": []
    },
    {
      "cell_type": "code",
      "metadata": {
        "colab": {
          "base_uri": "https://localhost:8080/"
        },
        "id": "wF56P-RQrLhn",
        "outputId": "9654192a-904e-445f-e500-67a669a95946"
      },
      "source": [
        "test_calc = pd.concat([pd.DataFrame(y_test).reset_index(drop=True),pd.DataFrame(y_pred).reset_index(drop=True)],axis=1)\n",
        "test_calc.rename(columns={0: 'predicted'}, inplace=True)\n",
        "\n",
        "test_calc['predicted'] = test_calc['predicted'].apply(lambda x: 1 if x > 0.5 else 0)\n",
        "df_table = confusion_matrix(test_calc['outcome'],test_calc['predicted'])\n",
        "print (df_table)\n",
        "\n",
        "print('accuracy:', (df_table[0,0] + df_table[1,1]) / (df_table[0,0] + df_table[0,1] + df_table[1,0] + df_table[1,1]))\n",
        "print ('precision:', df_table[1,1] / (df_table[1,1] + df_table[0,1]))\n",
        "print('recall:', df_table[1,1] / (df_table[1,1] + df_table[1,0]))\n",
        "\n",
        "p = df_table[1,1] / (df_table[1,1] + df_table[0,1])\n",
        "r = df_table[1,1] / (df_table[1,1] + df_table[1,0])\n",
        "print('f1 score: ', (2*p*r)/(p+r))"
      ],
      "execution_count": 50,
      "outputs": [
        {
          "output_type": "stream",
          "text": [
            "[[1593  130]\n",
            " [ 694   83]]\n",
            "accuracy: 0.6704\n",
            "precision: 0.38967136150234744\n",
            "recall: 0.10682110682110682\n",
            "f1 score:  0.16767676767676767\n"
          ],
          "name": "stdout"
        }
      ]
    },
    {
      "cell_type": "code",
      "metadata": {
        "colab": {
          "base_uri": "https://localhost:8080/"
        },
        "id": "enB-DLDVrT_G",
        "outputId": "f4c82847-6b4f-4082-da93-a48855b4af1e"
      },
      "source": [
        "knn_score = knn.score(X_test, y_test)\n",
        "print(knn_score)"
      ],
      "execution_count": 54,
      "outputs": [
        {
          "output_type": "stream",
          "text": [
            "0.6704\n"
          ],
          "name": "stdout"
        }
      ]
    },
    {
      "cell_type": "markdown",
      "metadata": {
        "id": "d7W2ek-Ir9mP"
      },
      "source": [
        "Decision Tree"
      ]
    },
    {
      "cell_type": "code",
      "metadata": {
        "id": "b9W7GuX4rznx"
      },
      "source": [
        "from sklearn.tree import DecisionTreeClassifier"
      ],
      "execution_count": 55,
      "outputs": []
    },
    {
      "cell_type": "code",
      "metadata": {
        "colab": {
          "base_uri": "https://localhost:8080/",
          "height": 282
        },
        "id": "s50oj1XEr_v6",
        "outputId": "f579a62b-7fdd-4ea3-9d04-8e35f94657cf"
      },
      "source": [
        "results = []\n",
        "max_depth_options = [2,4,6,8,10,12,14,16,18,20]\n",
        "for trees in max_depth_options:\n",
        "    model = DecisionTreeClassifier(max_depth=trees, random_state=101)\n",
        "    model.fit(X_train, y_train)\n",
        "    y_pred = model.predict(X_test)\n",
        "    accuracy = np.mean(y_test==y_pred)\n",
        "    results.append(accuracy)\n",
        "\n",
        "plt.figure(figsize=(8,4))\n",
        "pd.Series(results, max_depth_options).plot(color=\"darkred\",marker=\"o\")"
      ],
      "execution_count": 56,
      "outputs": [
        {
          "output_type": "execute_result",
          "data": {
            "text/plain": [
              "<matplotlib.axes._subplots.AxesSubplot at 0x7f043c47c250>"
            ]
          },
          "metadata": {
            "tags": []
          },
          "execution_count": 56
        },
        {
          "output_type": "display_data",
          "data": {
            "image/png": "[encoded data removed]",
            "text/plain": [
              "<Figure size 576x288 with 1 Axes>"
            ]
          },
          "metadata": {
            "tags": [],
            "needs_background": "light"
          }
        }
      ]
    },
    {
      "cell_type": "code",
      "metadata": {
        "id": "fMs9YTWMsGlW"
      },
      "source": [
        "dtree = DecisionTreeClassifier(max_depth=10, random_state=101, max_features = None, min_samples_leaf = 15)\n",
        "dtree.fit(X_train, y_train)\n",
        "y_pred=dtree.predict(X_test)"
      ],
      "execution_count": 57,
      "outputs": []
    },
    {
      "cell_type": "code",
      "metadata": {
        "colab": {
          "base_uri": "https://localhost:8080/"
        },
        "id": "cP7hLacNsM-J",
        "outputId": "8c9c3450-c0b9-446c-8786-ccadc41caabb"
      },
      "source": [
        "test_calc = pd.concat([pd.DataFrame(y_test).reset_index(drop=True),pd.DataFrame(y_pred).reset_index(drop=True)],axis=1)\n",
        "test_calc.rename(columns={0: 'predicted'}, inplace=True)\n",
        "\n",
        "test_calc['predicted'] = test_calc['predicted'].apply(lambda x: 1 if x > 0.5 else 0)\n",
        "df_table = confusion_matrix(test_calc['outcome'],test_calc['predicted'])\n",
        "print (df_table)\n",
        "\n",
        "print('accuracy:', (df_table[0,0] + df_table[1,1]) / (df_table[0,0] + df_table[0,1] + df_table[1,0] + df_table[1,1]))\n",
        "print ('precision:', df_table[1,1] / (df_table[1,1] + df_table[0,1]))\n",
        "print('recall:', df_table[1,1] / (df_table[1,1] + df_table[1,0]))\n",
        "\n",
        "p = df_table[1,1] / (df_table[1,1] + df_table[0,1])\n",
        "r = df_table[1,1] / (df_table[1,1] + df_table[1,0])\n",
        "print('f1 score: ', (2*p*r)/(p+r))"
      ],
      "execution_count": 58,
      "outputs": [
        {
          "output_type": "stream",
          "text": [
            "[[1570  153]\n",
            " [ 239  538]]\n",
            "accuracy: 0.8432\n",
            "precision: 0.7785817655571635\n",
            "recall: 0.6924066924066924\n",
            "f1 score:  0.7329700272479565\n"
          ],
          "name": "stdout"
        }
      ]
    },
    {
      "cell_type": "code",
      "metadata": {
        "colab": {
          "base_uri": "https://localhost:8080/"
        },
        "id": "XEKvNqLHsQj9",
        "outputId": "78ce7394-0a1b-41d6-d57d-25b114c9cf48"
      },
      "source": [
        "dt_score = dtree.score(X_test, y_test)\n",
        "print(dt_score)"
      ],
      "execution_count": 60,
      "outputs": [
        {
          "output_type": "stream",
          "text": [
            "0.8432\n"
          ],
          "name": "stdout"
        }
      ]
    },
    {
      "cell_type": "markdown",
      "metadata": {
        "id": "4k3qHtFRsjBX"
      },
      "source": [
        "Random Forest"
      ]
    },
    {
      "cell_type": "code",
      "metadata": {
        "id": "i2nHOLkWsWst"
      },
      "source": [
        "from sklearn.ensemble import RandomForestClassifier"
      ],
      "execution_count": 61,
      "outputs": []
    },
    {
      "cell_type": "code",
      "metadata": {
        "colab": {
          "base_uri": "https://localhost:8080/",
          "height": 436
        },
        "id": "i1Hs9swCsmf3",
        "outputId": "f3d9556a-bd86-48b5-f2da-38df03fdca82"
      },
      "source": [
        "results = []\n",
        "n_estimaor_options = [20,25,30,35,40,45,50,55,60,65,70,75,80,85,90,95,100]\n",
        "for trees in n_estimaor_options:\n",
        "    model = RandomForestClassifier(trees, oob_score=True, n_jobs=-1, random_state=101)\n",
        "    model.fit(X_train, y_train)\n",
        "    y_pred = model.predict(X_test)\n",
        "    accuracy = np.mean(y_test==y_pred)\n",
        "    results.append(accuracy)\n",
        "\n",
        "plt.figure(figsize=(8,4))\n",
        "pd.Series(results, n_estimaor_options).plot(color=\"darkred\",marker=\"o\")"
      ],
      "execution_count": 62,
      "outputs": [
        {
          "output_type": "stream",
          "text": [
            "/usr/local/lib/python3.7/dist-packages/sklearn/ensemble/_forest.py:523: UserWarning: Some inputs do not have OOB scores. This probably means too few trees were used to compute any reliable oob estimates.\n",
            "  warn(\"Some inputs do not have OOB scores. \"\n",
            "/usr/local/lib/python3.7/dist-packages/sklearn/ensemble/_forest.py:528: RuntimeWarning: invalid value encountered in true_divide\n",
            "  predictions[k].sum(axis=1)[:, np.newaxis])\n",
            "/usr/local/lib/python3.7/dist-packages/sklearn/ensemble/_forest.py:523: UserWarning: Some inputs do not have OOB scores. This probably means too few trees were used to compute any reliable oob estimates.\n",
            "  warn(\"Some inputs do not have OOB scores. \"\n",
            "/usr/local/lib/python3.7/dist-packages/sklearn/ensemble/_forest.py:528: RuntimeWarning: invalid value encountered in true_divide\n",
            "  predictions[k].sum(axis=1)[:, np.newaxis])\n"
          ],
          "name": "stderr"
        },
        {
          "output_type": "execute_result",
          "data": {
            "text/plain": [
              "<matplotlib.axes._subplots.AxesSubplot at 0x7f043a0a8c90>"
            ]
          },
          "metadata": {
            "tags": []
          },
          "execution_count": 62
        },
        {
          "output_type": "display_data",
          "data": {
            "image/png": "[encoded data removed]",
            "text/plain": [
              "<Figure size 576x288 with 1 Axes>"
            ]
          },
          "metadata": {
            "tags": [],
            "needs_background": "light"
          }
        }
      ]
    },
    {
      "cell_type": "code",
      "metadata": {
        "id": "mlguz3yIsq4T"
      },
      "source": [
        "rf = RandomForestClassifier(n_estimators=70, oob_score=True, n_jobs=-1, random_state=101, max_features = None, min_samples_leaf = 30)\n",
        "rf.fit(X_train, y_train)\n",
        "y_pred=rf.predict(X_test)"
      ],
      "execution_count": 63,
      "outputs": []
    },
    {
      "cell_type": "code",
      "metadata": {
        "colab": {
          "base_uri": "https://localhost:8080/"
        },
        "id": "SSSTBjq4sx5L",
        "outputId": "bc86cb86-d940-4c35-d21c-dbe5c9aea66f"
      },
      "source": [
        "test_calc = pd.concat([pd.DataFrame(y_test).reset_index(drop=True),pd.DataFrame(y_pred).reset_index(drop=True)],axis=1)\n",
        "test_calc.rename(columns={0: 'predicted'}, inplace=True)\n",
        "\n",
        "test_calc['predicted'] = test_calc['predicted'].apply(lambda x: 1 if x > 0.5 else 0)\n",
        "df_table = confusion_matrix(test_calc['outcome'],test_calc['predicted'])\n",
        "print (df_table)\n",
        "\n",
        "print('accuracy:', (df_table[0,0] + df_table[1,1]) / (df_table[0,0] + df_table[0,1] + df_table[1,0] + df_table[1,1]))\n",
        "print ('precision:', df_table[1,1] / (df_table[1,1] + df_table[0,1]))\n",
        "print('recall:', df_table[1,1] / (df_table[1,1] + df_table[1,0]))\n",
        "\n",
        "p = df_table[1,1] / (df_table[1,1] + df_table[0,1])\n",
        "r = df_table[1,1] / (df_table[1,1] + df_table[1,0])\n",
        "print('f1 score: ', (2*p*r)/(p+r))"
      ],
      "execution_count": 64,
      "outputs": [
        {
          "output_type": "stream",
          "text": [
            "[[1533  190]\n",
            " [ 194  583]]\n",
            "accuracy: 0.8464\n",
            "precision: 0.7542043984476067\n",
            "recall: 0.7503217503217503\n",
            "f1 score:  0.752258064516129\n"
          ],
          "name": "stdout"
        }
      ]
    },
    {
      "cell_type": "code",
      "metadata": {
        "colab": {
          "base_uri": "https://localhost:8080/"
        },
        "id": "9AOOslEZvXT1",
        "outputId": "e28f592f-ea9e-4026-835e-1e7d39f9d3fe"
      },
      "source": [
        "rf_score = rf.score(X_test, y_test)\n",
        "print(rf_score)"
      ],
      "execution_count": 70,
      "outputs": [
        {
          "output_type": "stream",
          "text": [
            "0.8464\n"
          ],
          "name": "stdout"
        }
      ]
    },
    {
      "cell_type": "markdown",
      "metadata": {
        "id": "vmRrLvIks8II"
      },
      "source": [
        "SVM"
      ]
    },
    {
      "cell_type": "code",
      "metadata": {
        "id": "oqQRHdd8s1Pv"
      },
      "source": [
        "from sklearn.svm import SVC"
      ],
      "execution_count": 65,
      "outputs": []
    },
    {
      "cell_type": "code",
      "metadata": {
        "id": "DbF1uuhxs9-c"
      },
      "source": [
        "svm =  SVC(kernel=\"linear\", C=0.025,random_state=101)\n",
        "svm.fit(X_train, y_train)\n",
        "y_pred=svm.predict(X_test)"
      ],
      "execution_count": 67,
      "outputs": []
    },
    {
      "cell_type": "code",
      "metadata": {
        "colab": {
          "base_uri": "https://localhost:8080/"
        },
        "id": "Ll9Xg4VAtBlf",
        "outputId": "6cc23b7b-ea7e-424f-ea2e-e7cdee8ceee0"
      },
      "source": [
        "test_calc = pd.concat([pd.DataFrame(y_test).reset_index(drop=True),pd.DataFrame(y_pred).reset_index(drop=True)],axis=1)\n",
        "test_calc.rename(columns={0: 'predicted'}, inplace=True)\n",
        "\n",
        "test_calc['predicted'] = test_calc['predicted'].apply(lambda x: 1 if x > 0.5 else 0)\n",
        "df_table = confusion_matrix(test_calc['outcome'],test_calc['predicted'])\n",
        "print (df_table)\n",
        "\n",
        "print('accuracy:', (df_table[0,0] + df_table[1,1]) / (df_table[0,0] + df_table[0,1] + df_table[1,0] + df_table[1,1]))\n",
        "print ('precision:', df_table[1,1] / (df_table[1,1] + df_table[0,1]))\n",
        "print('recall:', df_table[1,1] / (df_table[1,1] + df_table[1,0]))\n",
        "\n",
        "p = df_table[1,1] / (df_table[1,1] + df_table[0,1])\n",
        "r = df_table[1,1] / (df_table[1,1] + df_table[1,0])\n",
        "print('f1 score: ', (2*p*r)/(p+r))"
      ],
      "execution_count": 68,
      "outputs": [
        {
          "output_type": "stream",
          "text": [
            "[[1638   85]\n",
            " [ 678   99]]\n",
            "accuracy: 0.6948\n",
            "precision: 0.5380434782608695\n",
            "recall: 0.1274131274131274\n",
            "f1 score:  0.2060353798126951\n"
          ],
          "name": "stdout"
        }
      ]
    },
    {
      "cell_type": "code",
      "metadata": {
        "colab": {
          "base_uri": "https://localhost:8080/"
        },
        "id": "7S26rVJVvkXc",
        "outputId": "30da2037-c6f2-4a1b-ae0c-e5ef97168b19"
      },
      "source": [
        "svm_score = svm.score(X_test, y_test)\n",
        "print(svm_score)"
      ],
      "execution_count": 69,
      "outputs": [
        {
          "output_type": "stream",
          "text": [
            "0.6948\n"
          ],
          "name": "stdout"
        }
      ]
    },
    {
      "cell_type": "markdown",
      "metadata": {
        "id": "n31yzPO2ujqQ"
      },
      "source": [
        "SUMMARY OF ALL MODELS:"
      ]
    },
    {
      "cell_type": "code",
      "metadata": {
        "colab": {
          "base_uri": "https://localhost:8080/"
        },
        "id": "eWITm1QKtKon",
        "outputId": "d8446e75-a711-4ebf-931f-134c68666edf"
      },
      "source": [
        "print(\"Logistic regression = %f\" % (lr_score))\n",
        "print(\"naive bayes = %f\" % (nb_score))\n",
        "print(\"SGD = %f\" % (sgd_score))\n",
        "print(\"KNN = %f\" % (knn_score))\n",
        "print(\"DT = %f\" % (dt_score))\n",
        "print(\"Random Forest = %f\" % (rf_score))\n",
        "print(\"SVM = %f\" % (svm_score))"
      ],
      "execution_count": 73,
      "outputs": [
        {
          "output_type": "stream",
          "text": [
            "Logistic regression = 0.688800\n",
            "naive bayes = 0.695200\n",
            "SGD = 0.310800\n",
            "KNN = 0.670400\n",
            "DT = 0.843200\n",
            "Random Forest = 0.846400\n",
            "SVM = 0.694800\n"
          ],
          "name": "stdout"
        }
      ]
    },
    {
      "cell_type": "markdown",
      "metadata": {
        "id": "xT9QoUGnwIfj"
      },
      "source": [
        "Therefore, the best accuracy came out to be 84.64% using Random Forest Classifier Model."
      ]
    },
    {
      "cell_type": "markdown",
      "metadata": {
        "id": "tZat6i3b4ne2"
      },
      "source": [
        "Exploratory Questions\n",
        "The client has some specific questions that they would like you to answer that they have not been able to answer themselves.\n",
        "Perform any pre-processing / cleaning of the data necessary to answer these questions.\n",
        "1. What proportion of customers with a credit score below 0.2 made a claim in the last year?\n",
        "2. What is the average number of speeding violations among customers with driving experience between 20 and 29\n",
        "years (inclusive)?\n",
        "3. What if you consider only the people in this group who drive a sports car?\n",
        "4. What is the standard deviation in annual mileage?"
      ]
    },
    {
      "cell_type": "markdown",
      "metadata": {
        "id": "X95s3XN-4vfI"
      },
      "source": [
        "As well as these specific questions, you suspect that they just want to understand their data better.\n",
        "1. Are there particular customer types?\n",
        "2. What do claimants have in common?\n",
        "3. How does the number of claims vary between postcodes?"
      ]
    },
    {
      "cell_type": "markdown",
      "metadata": {
        "id": "8cSh9Qjy489w"
      },
      "source": [
        "In addition to understanding the data they have; the client is interested to know how they should collect data in the future in\n",
        "order to better support data science work.\n",
        "1. Are there any problems with the data you have been given that should be kept in mind when modelling?\n",
        "2. Has the client collected the right data for their business needs?\n",
        "3. What recommendations would you make to the client for future data collection?"
      ]
    },
    {
      "cell_type": "markdown",
      "metadata": {
        "id": "WKa2CMrz5ITP"
      },
      "source": [
        "Modelling\n",
        "The client is interested to know if the customer data can be used to predict the likelihood that a claim is made in the next\n",
        "year. Your task is to investigate this and make a recommendation. You should complete the following tasks:\n",
        "1. Briefly discuss any assumptions being made about the data\n",
        "2. Build a proof-of-concept model to predict the outcome column from the customer data, including any necessary data\n",
        "processing\n",
        "3. Test your model using appropriate metrics and state how you would expect it to perform on unseen data.\n",
        "4. The client is keen to be able to interpret the model you build and would be particularly interested in understanding\n",
        "which features are most important to the model's decisions.\n",
        "5. They are also new to data science and interested in how this exciting new model you've built them works. Write a\n",
        "brief (no longer than a paragraph) description of how your model works that can be understood by someone without\n",
        "a technical background."
      ]
    },
    {
      "cell_type": "code",
      "metadata": {
        "colab": {
          "base_uri": "https://localhost:8080/"
        },
        "id": "aUppkSdcxvxq",
        "outputId": "3eea5ac0-adf3-47cd-8d18-53b4991017af"
      },
      "source": [
        "''' What proportion of customers with a credit score below 0.2 made a claim in the last year? '''\n",
        "x_data.query(\"credit_score < 0.2 and outcome == 1\")['outcome'].sum()"
      ],
      "execution_count": 75,
      "outputs": [
        {
          "output_type": "execute_result",
          "data": {
            "text/plain": [
              "59"
            ]
          },
          "metadata": {
            "tags": []
          },
          "execution_count": 75
        }
      ]
    },
    {
      "cell_type": "code",
      "metadata": {
        "colab": {
          "base_uri": "https://localhost:8080/"
        },
        "id": "EVQcFmCnyh63",
        "outputId": "ee2683e6-2c67-4ee9-a922-b87db5511eef"
      },
      "source": [
        "x_data.shape"
      ],
      "execution_count": 77,
      "outputs": [
        {
          "output_type": "execute_result",
          "data": {
            "text/plain": [
              "(10000, 19)"
            ]
          },
          "metadata": {
            "tags": []
          },
          "execution_count": 77
        }
      ]
    },
    {
      "cell_type": "code",
      "metadata": {
        "id": "zSoIekdgzdBt"
      },
      "source": [
        "proportion = (59/10000)*100"
      ],
      "execution_count": 78,
      "outputs": []
    },
    {
      "cell_type": "code",
      "metadata": {
        "colab": {
          "base_uri": "https://localhost:8080/"
        },
        "id": "gN2dzryFzs-0",
        "outputId": "1c6ec852-7f6b-484f-809e-359876ed138a"
      },
      "source": [
        "print(\"The proportion of customers with a credit score below 0.2 made a claim in the last year are: \", proportion)"
      ],
      "execution_count": 80,
      "outputs": [
        {
          "output_type": "stream",
          "text": [
            "The proportion of customers with a credit score below 0.2 made a claim in the last year are:  0.59\n"
          ],
          "name": "stdout"
        }
      ]
    },
    {
      "cell_type": "code",
      "metadata": {
        "colab": {
          "base_uri": "https://localhost:8080/",
          "height": 223
        },
        "id": "lkDBFxi1zvU5",
        "outputId": "c5c6f3b3-8524-4846-9c8b-7bb7fc8c8fc9"
      },
      "source": [
        "''' What is the average number of speeding violations among customers with driving experience between 20 and 29 years (inclusive) '''\n",
        "x_data.head()"
      ],
      "execution_count": 81,
      "outputs": [
        {
          "output_type": "execute_result",
          "data": {
            "text/html": [
              "<div>\n",
              "<style scoped>\n",
              "    .dataframe tbody tr th:only-of-type {\n",
              "        vertical-align: middle;\n",
              "    }\n",
              "\n",
              "    .dataframe tbody tr th {\n",
              "        vertical-align: top;\n",
              "    }\n",
              "\n",
              "    .dataframe thead th {\n",
              "        text-align: right;\n",
              "    }\n",
              "</style>\n",
              "<table border=\"1\" class=\"dataframe\">\n",
              "  <thead>\n",
              "    <tr style=\"text-align: right;\">\n",
              "      <th></th>\n",
              "      <th>id</th>\n",
              "      <th>age</th>\n",
              "      <th>gender</th>\n",
              "      <th>race</th>\n",
              "      <th>driving_experience</th>\n",
              "      <th>education</th>\n",
              "      <th>income</th>\n",
              "      <th>credit_score</th>\n",
              "      <th>vehicle_ownership</th>\n",
              "      <th>vehicle_year</th>\n",
              "      <th>married</th>\n",
              "      <th>children</th>\n",
              "      <th>postal_code</th>\n",
              "      <th>annual_mileage</th>\n",
              "      <th>vehicle_type</th>\n",
              "      <th>speeding_violations</th>\n",
              "      <th>DUIs</th>\n",
              "      <th>past_accidents</th>\n",
              "      <th>outcome</th>\n",
              "    </tr>\n",
              "  </thead>\n",
              "  <tbody>\n",
              "    <tr>\n",
              "      <th>0</th>\n",
              "      <td>569520</td>\n",
              "      <td>3</td>\n",
              "      <td>0</td>\n",
              "      <td>0</td>\n",
              "      <td>0</td>\n",
              "      <td>0</td>\n",
              "      <td>2</td>\n",
              "      <td>0.629027</td>\n",
              "      <td>1</td>\n",
              "      <td>0</td>\n",
              "      <td>0</td>\n",
              "      <td>1</td>\n",
              "      <td>10238</td>\n",
              "      <td>12000.0</td>\n",
              "      <td>0</td>\n",
              "      <td>0</td>\n",
              "      <td>0</td>\n",
              "      <td>0</td>\n",
              "      <td>0</td>\n",
              "    </tr>\n",
              "    <tr>\n",
              "      <th>1</th>\n",
              "      <td>750365</td>\n",
              "      <td>0</td>\n",
              "      <td>1</td>\n",
              "      <td>0</td>\n",
              "      <td>0</td>\n",
              "      <td>1</td>\n",
              "      <td>1</td>\n",
              "      <td>0.357757</td>\n",
              "      <td>0</td>\n",
              "      <td>1</td>\n",
              "      <td>0</td>\n",
              "      <td>0</td>\n",
              "      <td>10238</td>\n",
              "      <td>16000.0</td>\n",
              "      <td>0</td>\n",
              "      <td>0</td>\n",
              "      <td>0</td>\n",
              "      <td>0</td>\n",
              "      <td>1</td>\n",
              "    </tr>\n",
              "    <tr>\n",
              "      <th>2</th>\n",
              "      <td>199901</td>\n",
              "      <td>0</td>\n",
              "      <td>0</td>\n",
              "      <td>0</td>\n",
              "      <td>0</td>\n",
              "      <td>0</td>\n",
              "      <td>3</td>\n",
              "      <td>0.493146</td>\n",
              "      <td>1</td>\n",
              "      <td>1</td>\n",
              "      <td>0</td>\n",
              "      <td>0</td>\n",
              "      <td>10238</td>\n",
              "      <td>11000.0</td>\n",
              "      <td>0</td>\n",
              "      <td>0</td>\n",
              "      <td>0</td>\n",
              "      <td>0</td>\n",
              "      <td>0</td>\n",
              "    </tr>\n",
              "    <tr>\n",
              "      <th>3</th>\n",
              "      <td>478866</td>\n",
              "      <td>0</td>\n",
              "      <td>1</td>\n",
              "      <td>0</td>\n",
              "      <td>0</td>\n",
              "      <td>2</td>\n",
              "      <td>3</td>\n",
              "      <td>0.206013</td>\n",
              "      <td>1</td>\n",
              "      <td>1</td>\n",
              "      <td>0</td>\n",
              "      <td>1</td>\n",
              "      <td>32765</td>\n",
              "      <td>11000.0</td>\n",
              "      <td>0</td>\n",
              "      <td>0</td>\n",
              "      <td>0</td>\n",
              "      <td>0</td>\n",
              "      <td>0</td>\n",
              "    </tr>\n",
              "    <tr>\n",
              "      <th>4</th>\n",
              "      <td>731664</td>\n",
              "      <td>1</td>\n",
              "      <td>1</td>\n",
              "      <td>0</td>\n",
              "      <td>1</td>\n",
              "      <td>1</td>\n",
              "      <td>3</td>\n",
              "      <td>0.388366</td>\n",
              "      <td>1</td>\n",
              "      <td>1</td>\n",
              "      <td>0</td>\n",
              "      <td>0</td>\n",
              "      <td>32765</td>\n",
              "      <td>12000.0</td>\n",
              "      <td>0</td>\n",
              "      <td>2</td>\n",
              "      <td>0</td>\n",
              "      <td>1</td>\n",
              "      <td>1</td>\n",
              "    </tr>\n",
              "  </tbody>\n",
              "</table>\n",
              "</div>"
            ],
            "text/plain": [
              "       id  age  gender  ...  DUIs  past_accidents  outcome\n",
              "0  569520    3       0  ...     0               0        0\n",
              "1  750365    0       1  ...     0               0        1\n",
              "2  199901    0       0  ...     0               0        0\n",
              "3  478866    0       1  ...     0               0        0\n",
              "4  731664    1       1  ...     0               1        1\n",
              "\n",
              "[5 rows x 19 columns]"
            ]
          },
          "metadata": {
            "tags": []
          },
          "execution_count": 81
        }
      ]
    },
    {
      "cell_type": "code",
      "metadata": {
        "id": "E0dtNipx0a4I"
      },
      "source": [
        "avg=(x_data.query(\"driving_experience == 2\")['outcome'].sum() ) / 10000"
      ],
      "execution_count": 83,
      "outputs": []
    },
    {
      "cell_type": "code",
      "metadata": {
        "colab": {
          "base_uri": "https://localhost:8080/"
        },
        "id": "bPJj_ZzG09-W",
        "outputId": "bbac0c25-3da9-410e-cf4c-dc48119bf56f"
      },
      "source": [
        "print(avg)"
      ],
      "execution_count": 84,
      "outputs": [
        {
          "output_type": "stream",
          "text": [
            "0.0109\n"
          ],
          "name": "stdout"
        }
      ]
    }
  ]
}